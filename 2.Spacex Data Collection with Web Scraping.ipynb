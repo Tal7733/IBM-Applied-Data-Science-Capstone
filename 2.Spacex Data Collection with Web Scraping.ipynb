{
 "cells": [
  {
   "cell_type": "markdown",
   "id": "79890131-3472-43bf-9efc-ae93c9bb6c98",
   "metadata": {},
   "source": [
    "# Space X Falcon 9 First Stage Landing Prediction\n",
    "## Web scraping Falcon 9 and Falcon Heavy Launches Records from Wikipedia"
   ]
  },
  {
   "cell_type": "code",
   "execution_count": 1,
   "id": "6565d652-f463-4fa9-8f6a-2895bdd01751",
   "metadata": {},
   "outputs": [],
   "source": [
    "\n",
    "# Import libraries \n",
    "import requests\n",
    "from bs4 import BeautifulSoup\n",
    "import pandas as pd"
   ]
  },
  {
   "cell_type": "code",
   "execution_count": 2,
   "id": "ea398042-74aa-4a94-9002-198f92ffd56a",
   "metadata": {},
   "outputs": [],
   "source": [
    "# Define the URL and get the response:\n",
    "\n",
    "static_url = \"https://en.wikipedia.org/w/index.php?title=List_of_Falcon_9_and_Falcon_Heavy_launches&oldid=1027686922\"\n",
    "response = requests.get(static_url)\n",
    "soup = BeautifulSoup(response.text, 'html.parser')"
   ]
  },
  {
   "cell_type": "code",
   "execution_count": 3,
   "id": "1c9788ce-e34f-46e0-b9a3-3c481926ed44",
   "metadata": {},
   "outputs": [],
   "source": [
    "# Define the functions:\n",
    "\n",
    "def date_time(table_cells):\n",
    "    \"\"\" This function returns the data and time from the HTML table cell. \"\"\"\n",
    "    try:\n",
    "        return [data_time.strip() for data_time in list(table_cells.strings)][0:2]\n",
    "    except:\n",
    "        return ['Unknown', 'Unknown']  \n",
    "\n",
    "def booster_version(table_cells):\n",
    "    \"\"\" This function returns the booster version from the HTML table cell. \"\"\"\n",
    "    try:\n",
    "        return ''.join([booster_version for i, booster_version in enumerate(table_cells.strings) if i % 2 == 0][0:-1])\n",
    "    except:\n",
    "        return 'Unknown'\n",
    "\n",
    "def landing_status(table_cells):\n",
    "    \"\"\" This function returns the landing status from the HTML table cell. \"\"\"\n",
    "    try:\n",
    "        return [i for i in table_cells.strings][0]\n",
    "    except:\n",
    "        return 'Unknown'\n",
    "\n",
    "def get_mass(table_cells):\n",
    "    \"\"\" This function extracts the payload mass from the HTML table cell. \"\"\"\n",
    "    try:\n",
    "        mass = table_cells.text.strip()\n",
    "        if \"kg\" in mass:\n",
    "            return mass[:mass.find(\"kg\")+2]\n",
    "        else:\n",
    "            return mass\n",
    "    except:\n",
    "        return '0 kg'  \n",
    "\n"
   ]
  },
  {
   "cell_type": "code",
   "execution_count": 4,
   "id": "255c132b-dace-4e78-b602-eaf1ba7765d4",
   "metadata": {},
   "outputs": [],
   "source": [
    "# Initialize the launch dictionary\n",
    "launch_dict = {\n",
    "    'Date': [],\n",
    "    'Time': [],\n",
    "    'Version Booster': [],\n",
    "    'Launch Site': [],\n",
    "    'Payload': [],\n",
    "    'Payload Mass': [],\n",
    "    'Orbit': [],\n",
    "    'Customer': [],\n",
    "    'Launch Outcome': [],\n",
    "    'Booster Landing': []\n",
    "}\n"
   ]
  },
  {
   "cell_type": "code",
   "execution_count": 5,
   "id": "f67c25c3-76ba-4359-82f3-691a5eaa3987",
   "metadata": {},
   "outputs": [],
   "source": [
    "# Extracting data from the table\n",
    "table = soup.find('table', {'class': 'wikitable plainrowheaders collapsible'})  # Adjust class to match the table's\n",
    "for row in table.find_all('tr')[1:]:  \n",
    "    cells = row.find_all('td')\n",
    "    if len(cells) < 9:\n",
    "        continue  \n",
    "\n",
    "    # Populate data into launch_dict\n",
    "    launch_dict['Date'].append(date_time(cells[0])[0] if len(cells) > 0 else 'Unknown')\n",
    "    launch_dict['Time'].append(date_time(cells[0])[1] if len(cells) > 0 else 'Unknown')\n",
    "    launch_dict['Version Booster'].append(booster_version(cells[1]) if len(cells) > 1 else 'Unknown')\n",
    "    launch_dict['Launch Site'].append(cells[2].text.strip() if len(cells) > 2 else 'Unknown')\n",
    "    launch_dict['Payload'].append(cells[3].text.strip() if len(cells) > 3 else 'Unknown')\n",
    "    launch_dict['Payload Mass'].append(get_mass(cells[4]) if len(cells) > 4 else 'Unknown')\n",
    "    launch_dict['Orbit'].append(cells[5].text.strip() if len(cells) > 5 else 'Unknown')\n",
    "    launch_dict['Customer'].append(cells[6].text.strip() if len(cells) > 6 else 'Unknown')\n",
    "    launch_dict['Launch Outcome'].append(cells[7].text.strip() if len(cells) > 7 else 'Unknown')\n",
    "    launch_dict['Booster Landing'].append(landing_status(cells[8]) if len(cells) > 8 else 'Unknown')"
   ]
  },
  {
   "cell_type": "code",
   "execution_count": 6,
   "id": "62d50500-fd80-4254-b600-d441f702c26c",
   "metadata": {},
   "outputs": [],
   "source": [
    "# Create DataFrame from launch_dict\n",
    "df = pd.DataFrame(launch_dict)\n",
    "\n",
    "df.head()"
   ]
  },
  {
   "cell_type": "code",
   "execution_count": null,
   "id": "09a09c54-2194-42e4-80db-6858e6bbb0c9",
   "metadata": {},
   "outputs": [],
   "source": []
  }
 ],
 "metadata": {
  "kernelspec": {
   "display_name": "Python 3 (ipykernel)",
   "language": "python",
   "name": "python3"
  },
  "language_info": {
   "codemirror_mode": {
    "name": "ipython",
    "version": 3
   },
   "file_extension": ".py",
   "mimetype": "text/x-python",
   "name": "python",
   "nbconvert_exporter": "python",
   "pygments_lexer": "ipython3",
   "version": "3.9.18"
  }
 },
 "nbformat": 4,
 "nbformat_minor": 5
}
