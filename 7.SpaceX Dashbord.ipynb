{
 "cells": [
  {
   "cell_type": "markdown",
   "id": "3c63b596-dfe2-49be-ba12-f54ff8f45ff6",
   "metadata": {},
   "source": [
    "# SpaceX Dashbord"
   ]
  },
  {
   "cell_type": "markdown",
   "id": "19e8f0b1-7648-410c-ac0a-40b8d8fc53bf",
   "metadata": {},
   "source": [
    "In this lab, you will be building a Plotly Dash application for users to perform interactive visual analytics on SpaceX launch data in\n",
    "real-time.\n",
    "\n",
    "This dashboard application contains input components such as a dropdown list and a range slider to\n",
    "interact with a pie chart and a scatter point chart. You will be guided to build this dashboard application via the following tasks:\n",
    "\n",
    "TASK 1: Add a Launch Site **Drop-down Input** Component<br>\n",
    "TASK 2: Add a **callback function to render success-pie-chart** based on selected site dropdown<br>\n",
    "TASK 3: Add a **Range Slider** to Select Payload<br>\n",
    "TASK 4: Add a **callback function to render the success-payload-scatter-chart scatter plot**<br>\n",
    "Note:Please take screenshots of the Dashboard and save them. Further upload your notebook to github.\n",
    "\n",
    "The github url and the screenshots are later required in the presentation slides.\n",
    "\n",
    "After visual analysis using the dashboard, you should be able to obtain some insights to answer the following five questions:<br>\n",
    "Which site has the largest successful launches?<br>\n",
    "Which site has the highest launch success rate?<br>\n",
    "Which payload range(s) has the highest launch success rate<br>\n",
    "Which payload range(s) has the lowest launch success rate?<br>\n",
    "Which F9 Booster version (v1.0, v1.1, FT, B4, B5, etc.) has the highest launch success rate?<br>"
   ]
  },
  {
   "cell_type": "code",
   "execution_count": null,
   "id": "1c8c6452-285e-4e28-8d35-13c797ae3b00",
   "metadata": {},
   "outputs": [],
   "source": [
    "!pip install jupyter_dash\n"
   ]
  },
  {
   "cell_type": "markdown",
   "id": "61172e12-818b-4ae6-9f1d-eed900edf9cb",
   "metadata": {},
   "source": [
    "\n",
    "<b>  <p style=\"font-size:150%;  color:#2D59D6\">  Application 1</p>     </b>"
   ]
  },
  {
   "cell_type": "code",
   "execution_count": null,
   "id": "87dfec12-54f6-44f4-a3e8-654944a329ce",
   "metadata": {},
   "outputs": [],
   "source": [
    "# step 1: import the needed libraries \n",
    "import pandas as pd\n",
    "import plotly.express as px\n",
    "import dash\n",
    "from dash import html, dcc\n",
    "from dash.dependencies import Input, Output\n",
    "import plotly.graph_objects as go\n",
    "from jupyter_dash import JupyterDash\n",
    "\n",
    "# then let's integrate Ploty into Jupyter environments like Jupyter Notebook\n",
    "from jupyter_dash.comms import _send_jupyter_config_comm_request\n",
    "_send_jupyter_config_comm_request()\n",
    "\n",
    "# step 2: load the data\n",
    "spacex_df = pd.read_csv('https://cf-courses-data.s3.us.cloud-object-storage.appdomain.cloud/IBM-DS0321EN-SkillsNetwork/datasets/spacex_launch_dash.csv', index_col=0)\n",
    "spacex_df.head()\n",
    "# spacex_df.to_csv('D:/Pyworks/Pydata/SpaceX_plotly.csv', index=False)\n",
    "\n",
    "# step 3: Create a Dash application\n",
    "app = JupyterDash(__name__)  # Changed from Dash to JupyterDash to integrate properly with Jupyter Notebook\n",
    "\n",
    "# Define the layout of the application\n",
    "app.layout = html.Div([\n",
    "    # Task 1: Dropdown for selecting launch sites\n",
    "    dcc.Dropdown(\n",
    "        id='site-dropdown',\n",
    "        options=[\n",
    "            {'label': 'All Sites', 'value': 'ALL'}] + \n",
    "            [{'label': site, 'value': site} for site in spacex_df['Launch Site'].unique()],\n",
    "        value='ALL',\n",
    "        placeholder='Select a Launch Site here',\n",
    "        searchable=True\n",
    "    ),\n",
    "    # Placeholder for the pie chart\n",
    "    dcc.Graph(id='success-pie-chart'),\n",
    "    \n",
    "    # Task 3: Range Slider for selecting payload mass range\n",
    "    dcc.RangeSlider(\n",
    "        id='payload-slider',\n",
    "        min=spacex_df['Payload Mass (kg)'].min(),\n",
    "        max=spacex_df['Payload Mass (kg)'].max(),\n",
    "        step=100,\n",
    "        marks={i: str(i) for i in range(int(spacex_df['Payload Mass (kg)'].min()), int(spacex_df['Payload Mass (kg)'].max()), 1000)},\n",
    "        value=[spacex_df['Payload Mass (kg)'].min(), spacex_df['Payload Mass (kg)'].max()]\n",
    "    ),\n",
    "    # Placeholder for the scatter plot\n",
    "    dcc.Graph(id='success-payload-scatter-chart')\n",
    "])\n",
    "\n",
    "# Task 2: Callback for updating the pie chart based on selected launch site\n",
    "@app.callback(\n",
    "    Output('success-pie-chart', 'figure'),\n",
    "    Input('site-dropdown', 'value')\n",
    ")\n",
    "def update_pie_chart(entered_site):\n",
    "    if entered_site == 'ALL':\n",
    "        filtered_df = spacex_df\n",
    "    else:\n",
    "        filtered_df = spacex_df[spacex_df['Launch Site'] == entered_site]\n",
    "\n",
    "    fig = px.pie(\n",
    "        filtered_df, \n",
    "        values='class', \n",
    "        names='Launch Site', \n",
    "        title=f'Total Success Launches for {entered_site}'\n",
    "    )\n",
    "    return fig\n",
    "\n",
    "# Task 4: Callback for updating the scatter plot based on selected launch site and payload range\n",
    "@app.callback(\n",
    "    Output('success-payload-scatter-chart', 'figure'),\n",
    "    [Input('site-dropdown', 'value'),\n",
    "     Input('payload-slider', 'value')]\n",
    ")\n",
    "def update_scatter_chart(entered_site, payload_range):\n",
    "    filtered_df = spacex_df[\n",
    "        (spacex_df['Payload Mass (kg)'] >= payload_range[0]) & \n",
    "        (spacex_df['Payload Mass (kg)'] <= payload_range[1])\n",
    "    ]\n",
    "\n",
    "    if entered_site != 'ALL':\n",
    "        filtered_df = filtered_df[filtered_df['Launch Site'] == entered_site]\n",
    "    \n",
    "    fig = px.scatter(\n",
    "        filtered_df,\n",
    "        x='Payload Mass (kg)',\n",
    "        y='class',\n",
    "        color='Booster Version Category',\n",
    "        title=f'Payload vs. Outcome for {entered_site}'\n",
    "    )\n",
    "    return fig\n",
    "\n",
    "# step 4: Run the Dash app\n",
    "if __name__ == '__main__':\n",
    "    app.run_server(debug=True)"
   ]
  },
  {
   "cell_type": "markdown",
   "id": "1bb3befb-68cc-4b0b-b025-f59bef306e5b",
   "metadata": {},
   "source": [
    "<b>  <p style=\"font-size:150%;  color:#2D59D6\">  Application 2</p>     </b>"
   ]
  },
  {
   "cell_type": "code",
   "execution_count": 1,
   "id": "3ea0485e-dd22-4d02-9e72-bf6d4840e101",
   "metadata": {},
   "outputs": [
    {
     "name": "stderr",
     "output_type": "stream",
     "text": [
      "C:\\ProgramData\\Anaconda3\\lib\\site-packages\\dash\\dash.py:556: UserWarning:\n",
      "\n",
      "JupyterDash is deprecated, use Dash instead.\n",
      "See https://dash.plotly.com/dash-in-jupyter for more details.\n",
      "\n"
     ]
    },
    {
     "data": {
      "text/html": [
       "\n",
       "        <iframe\n",
       "            width=\"100%\"\n",
       "            height=\"650\"\n",
       "            src=\"http://127.0.0.1:8050/\"\n",
       "            frameborder=\"0\"\n",
       "            allowfullscreen\n",
       "            \n",
       "        ></iframe>\n",
       "        "
      ],
      "text/plain": [
       "<IPython.lib.display.IFrame at 0x1eeb24269d0>"
      ]
     },
     "metadata": {},
     "output_type": "display_data"
    },
    {
     "name": "stdout",
     "output_type": "stream",
     "text": [
      "Dash app running on http://127.0.0.1:8050/\n"
     ]
    }
   ],
   "source": [
    "# step 1: import the needed libraries \n",
    "import pandas as pd\n",
    "import plotly.express as px\n",
    "import dash\n",
    "from dash import html, dcc\n",
    "from dash.dependencies import Input, Output\n",
    "import plotly.graph_objects as go\n",
    "from jupyter_dash import JupyterDash\n",
    "\n",
    "# then let's integrate Ploty into Jupyter environments like Jupyter Notebook\n",
    "from jupyter_dash.comms import _send_jupyter_config_comm_request\n",
    "_send_jupyter_config_comm_request()\n",
    "\n",
    "# step 2: load the data\n",
    "spacex_df = pd.read_csv('https://cf-courses-data.s3.us.cloud-object-storage.appdomain.cloud/IBM-DS0321EN-SkillsNetwork/datasets/spacex_launch_dash.csv', index_col=0)\n",
    "spacex_df.head()\n",
    "# spacex_df.to_csv('D:/Pyworks/Pydata/SpaceX_plotly.csv', index=False)\n",
    "\n",
    "# step 3: Create a Dash application\n",
    "app = JupyterDash(__name__)  # Changed from Dash to JupyterDash to integrate properly with Jupyter Notebook\n",
    "\n",
    "# Define the layout of the application\n",
    "app.layout = html.Div([\n",
    "    # Task 1: Dropdown for selecting launch sites\n",
    "    dcc.Dropdown(\n",
    "        id='site-dropdown',\n",
    "        options=[\n",
    "            {'label': 'All Sites', 'value': 'ALL'}] + \n",
    "            [{'label': site, 'value': site} for site in spacex_df['Launch Site'].unique()],\n",
    "        value='ALL',\n",
    "        placeholder='Select a Launch Site here',\n",
    "        searchable=True\n",
    "    ),\n",
    "    # Placeholder for the pie chart\n",
    "    dcc.Graph(id='success-pie-chart'),\n",
    "    \n",
    "    # Task 3: Range Slider for selecting payload mass range\n",
    "    dcc.RangeSlider(\n",
    "        id='payload-slider',\n",
    "        min=spacex_df['Payload Mass (kg)'].min(),\n",
    "        max=spacex_df['Payload Mass (kg)'].max(),\n",
    "        step=100,\n",
    "        marks={i: str(i) for i in range(int(spacex_df['Payload Mass (kg)'].min()), int(spacex_df['Payload Mass (kg)'].max()), 1000)},\n",
    "        value=[spacex_df['Payload Mass (kg)'].min(), spacex_df['Payload Mass (kg)'].max()]\n",
    "    ),\n",
    "    # Placeholder for the scatter plot\n",
    "    dcc.Graph(id='success-payload-scatter-chart')\n",
    "])\n",
    "\n",
    "# Task 2: Callback for updating the pie chart based on selected launch site\n",
    "@app.callback(\n",
    "    Output('success-pie-chart', 'figure'),\n",
    "    Input('site-dropdown', 'value')\n",
    ")\n",
    "def update_pie_chart(entered_site):\n",
    "    if entered_site == 'ALL':\n",
    "        filtered_df = spacex_df\n",
    "    else:\n",
    "        filtered_df = spacex_df[spacex_df['Launch Site'] == entered_site]\n",
    "\n",
    "    success_counts = filtered_df['class'].value_counts().rename(index={0: 'Failed', 1: 'Successful'})\n",
    "    \n",
    "    fig = px.pie(\n",
    "        names=success_counts.index,\n",
    "        values=success_counts.values,\n",
    "        title=f'Success vs. Failure Launches for {entered_site}'\n",
    "    )\n",
    "    return fig\n",
    "\n",
    "# Task 4: Callback for updating the scatter plot based on selected launch site and payload range\n",
    "@app.callback(\n",
    "    Output('success-payload-scatter-chart', 'figure'),\n",
    "    [Input('site-dropdown', 'value'),\n",
    "     Input('payload-slider', 'value')]\n",
    ")\n",
    "def update_scatter_chart(entered_site, payload_range):\n",
    "    filtered_df = spacex_df[\n",
    "        (spacex_df['Payload Mass (kg)'] >= payload_range[0]) & \n",
    "        (spacex_df['Payload Mass (kg)'] <= payload_range[1])\n",
    "    ]\n",
    "\n",
    "    if entered_site != 'ALL':\n",
    "        filtered_df = filtered_df[filtered_df['Launch Site'] == entered_site]\n",
    "    \n",
    "    fig = px.scatter(\n",
    "        filtered_df,\n",
    "        x='Payload Mass (kg)',\n",
    "        y='class',\n",
    "        color='Booster Version Category',\n",
    "        title=f'Payload vs. Outcome for {entered_site}'\n",
    "    )\n",
    "    return fig\n",
    "\n",
    "# step 4: Run the Dash app\n",
    "if __name__ == '__main__':\n",
    "    app.run_server(debug=True)"
   ]
  },
  {
   "cell_type": "code",
   "execution_count": 3,
   "id": "e5a87143-8e8b-48c5-8a86-dfe8888371ee",
   "metadata": {},
   "outputs": [
    {
     "data": {
      "text/plain": [
       "Index(['Flight Number', 'Launch Site', 'class', 'Payload Mass (kg)',\n",
       "       'Booster Version', 'Booster Version Category'],\n",
       "      dtype='object')"
      ]
     },
     "execution_count": 3,
     "metadata": {},
     "output_type": "execute_result"
    }
   ],
   "source": [
    "spacex_df.columns"
   ]
  },
  {
   "cell_type": "code",
   "execution_count": 10,
   "id": "1b28bb12-fab1-4e25-8d88-d2511ddc5ccb",
   "metadata": {},
   "outputs": [
    {
     "data": {
      "text/plain": [
       "10"
      ]
     },
     "execution_count": 10,
     "metadata": {},
     "output_type": "execute_result"
    }
   ],
   "source": [
    "len(spacex_df[(spacex_df['Launch Site']=='KSC LC-39A') &(spacex_df['class']==1)])"
   ]
  },
  {
   "cell_type": "code",
   "execution_count": null,
   "id": "f957bfad-26f8-44a9-934b-8d01f586018c",
   "metadata": {},
   "outputs": [],
   "source": []
  },
  {
   "cell_type": "code",
   "execution_count": null,
   "id": "5e1ae68e-6515-4387-b0f5-bd5d7a742714",
   "metadata": {},
   "outputs": [],
   "source": []
  }
 ],
 "metadata": {
  "kernelspec": {
   "display_name": "Python 3 (ipykernel)",
   "language": "python",
   "name": "python3"
  },
  "language_info": {
   "codemirror_mode": {
    "name": "ipython",
    "version": 3
   },
   "file_extension": ".py",
   "mimetype": "text/x-python",
   "name": "python",
   "nbconvert_exporter": "python",
   "pygments_lexer": "ipython3",
   "version": "3.9.18"
  }
 },
 "nbformat": 4,
 "nbformat_minor": 5
}
